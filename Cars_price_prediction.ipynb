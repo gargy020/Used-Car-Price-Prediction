{
 "cells": [
  {
   "cell_type": "markdown",
   "id": "5aaeae04",
   "metadata": {},
   "source": [
    "# importing  libraries"
   ]
  },
  {
   "cell_type": "code",
   "execution_count": 1,
   "id": "763530f9",
   "metadata": {},
   "outputs": [],
   "source": [
    "import pandas as pd\n",
    "import numpy as np\n",
    "import matplotlib.pyplot as plt             ##importing libraries\n",
    "import seaborn as sns\n",
    "from sklearn import preprocessing \n",
    "import scipy.stats as stats\n",
    "import statsmodels.api as sm"
   ]
  },
  {
   "cell_type": "markdown",
   "id": "e2f83008",
   "metadata": {},
   "source": [
    "# Reading Data"
   ]
  },
  {
   "cell_type": "code",
   "execution_count": 2,
   "id": "1d82e01a",
   "metadata": {},
   "outputs": [],
   "source": [
    "df=pd.read_csv('car data.csv')              ##reading data"
   ]
  },
  {
   "cell_type": "code",
   "execution_count": 3,
   "id": "a3949564",
   "metadata": {},
   "outputs": [
    {
     "data": {
      "text/html": [
       "<div>\n",
       "<style scoped>\n",
       "    .dataframe tbody tr th:only-of-type {\n",
       "        vertical-align: middle;\n",
       "    }\n",
       "\n",
       "    .dataframe tbody tr th {\n",
       "        vertical-align: top;\n",
       "    }\n",
       "\n",
       "    .dataframe thead th {\n",
       "        text-align: right;\n",
       "    }\n",
       "</style>\n",
       "<table border=\"1\" class=\"dataframe\">\n",
       "  <thead>\n",
       "    <tr style=\"text-align: right;\">\n",
       "      <th></th>\n",
       "      <th>Car_Name</th>\n",
       "      <th>Year</th>\n",
       "      <th>Selling_Price</th>\n",
       "      <th>Present_Price</th>\n",
       "      <th>Kms_Driven</th>\n",
       "      <th>Fuel_Type</th>\n",
       "      <th>Seller_Type</th>\n",
       "      <th>Transmission</th>\n",
       "      <th>Owner</th>\n",
       "    </tr>\n",
       "  </thead>\n",
       "  <tbody>\n",
       "    <tr>\n",
       "      <th>0</th>\n",
       "      <td>ritz</td>\n",
       "      <td>2014</td>\n",
       "      <td>3.35</td>\n",
       "      <td>5.59</td>\n",
       "      <td>27000</td>\n",
       "      <td>Petrol</td>\n",
       "      <td>Dealer</td>\n",
       "      <td>Manual</td>\n",
       "      <td>0</td>\n",
       "    </tr>\n",
       "    <tr>\n",
       "      <th>1</th>\n",
       "      <td>sx4</td>\n",
       "      <td>2013</td>\n",
       "      <td>4.75</td>\n",
       "      <td>9.54</td>\n",
       "      <td>43000</td>\n",
       "      <td>Diesel</td>\n",
       "      <td>Dealer</td>\n",
       "      <td>Manual</td>\n",
       "      <td>0</td>\n",
       "    </tr>\n",
       "    <tr>\n",
       "      <th>2</th>\n",
       "      <td>ciaz</td>\n",
       "      <td>2017</td>\n",
       "      <td>7.25</td>\n",
       "      <td>9.85</td>\n",
       "      <td>6900</td>\n",
       "      <td>Petrol</td>\n",
       "      <td>Dealer</td>\n",
       "      <td>Manual</td>\n",
       "      <td>0</td>\n",
       "    </tr>\n",
       "    <tr>\n",
       "      <th>3</th>\n",
       "      <td>wagon r</td>\n",
       "      <td>2011</td>\n",
       "      <td>2.85</td>\n",
       "      <td>4.15</td>\n",
       "      <td>5200</td>\n",
       "      <td>Petrol</td>\n",
       "      <td>Dealer</td>\n",
       "      <td>Manual</td>\n",
       "      <td>0</td>\n",
       "    </tr>\n",
       "    <tr>\n",
       "      <th>4</th>\n",
       "      <td>swift</td>\n",
       "      <td>2014</td>\n",
       "      <td>4.60</td>\n",
       "      <td>6.87</td>\n",
       "      <td>42450</td>\n",
       "      <td>Diesel</td>\n",
       "      <td>Dealer</td>\n",
       "      <td>Manual</td>\n",
       "      <td>0</td>\n",
       "    </tr>\n",
       "  </tbody>\n",
       "</table>\n",
       "</div>"
      ],
      "text/plain": [
       "  Car_Name  Year  Selling_Price  Present_Price  Kms_Driven Fuel_Type  \\\n",
       "0     ritz  2014           3.35           5.59       27000    Petrol   \n",
       "1      sx4  2013           4.75           9.54       43000    Diesel   \n",
       "2     ciaz  2017           7.25           9.85        6900    Petrol   \n",
       "3  wagon r  2011           2.85           4.15        5200    Petrol   \n",
       "4    swift  2014           4.60           6.87       42450    Diesel   \n",
       "\n",
       "  Seller_Type Transmission  Owner  \n",
       "0      Dealer       Manual      0  \n",
       "1      Dealer       Manual      0  \n",
       "2      Dealer       Manual      0  \n",
       "3      Dealer       Manual      0  \n",
       "4      Dealer       Manual      0  "
      ]
     },
     "execution_count": 3,
     "metadata": {},
     "output_type": "execute_result"
    }
   ],
   "source": [
    "df.head()                                   ##Printing top 5 rows of data"
   ]
  },
  {
   "cell_type": "markdown",
   "id": "f5f28459",
   "metadata": {},
   "source": [
    "# Label Encoding"
   ]
  },
  {
   "cell_type": "code",
   "execution_count": null,
   "id": "bfebfc8f",
   "metadata": {},
   "outputs": [],
   "source": []
  },
  {
   "cell_type": "code",
   "execution_count": 4,
   "id": "7350d476",
   "metadata": {},
   "outputs": [],
   "source": [
    "le = preprocessing.LabelEncoder()           ##Creating obejct of label encoder  "
   ]
  },
  {
   "cell_type": "code",
   "execution_count": 5,
   "id": "a30cb53c",
   "metadata": {},
   "outputs": [],
   "source": [
    "df['Transmission'] = le.fit_transform(df['Transmission'])\n",
    "df['Seller_Type'] = le.fit_transform(df['Seller_Type'])        ##applying label encoding so that machine can read them.\n",
    "df['Owner'] = le.fit_transform(df['Owner'])                     \n",
    "df['Fuel_Type'] = le.fit_transform(df['Fuel_Type'])"
   ]
  },
  {
   "cell_type": "code",
   "execution_count": 6,
   "id": "ef180d89",
   "metadata": {},
   "outputs": [
    {
     "data": {
      "text/html": [
       "<div>\n",
       "<style scoped>\n",
       "    .dataframe tbody tr th:only-of-type {\n",
       "        vertical-align: middle;\n",
       "    }\n",
       "\n",
       "    .dataframe tbody tr th {\n",
       "        vertical-align: top;\n",
       "    }\n",
       "\n",
       "    .dataframe thead th {\n",
       "        text-align: right;\n",
       "    }\n",
       "</style>\n",
       "<table border=\"1\" class=\"dataframe\">\n",
       "  <thead>\n",
       "    <tr style=\"text-align: right;\">\n",
       "      <th></th>\n",
       "      <th>Car_Name</th>\n",
       "      <th>Year</th>\n",
       "      <th>Selling_Price</th>\n",
       "      <th>Present_Price</th>\n",
       "      <th>Kms_Driven</th>\n",
       "      <th>Fuel_Type</th>\n",
       "      <th>Seller_Type</th>\n",
       "      <th>Transmission</th>\n",
       "      <th>Owner</th>\n",
       "    </tr>\n",
       "  </thead>\n",
       "  <tbody>\n",
       "    <tr>\n",
       "      <th>0</th>\n",
       "      <td>ritz</td>\n",
       "      <td>2014</td>\n",
       "      <td>3.35</td>\n",
       "      <td>5.59</td>\n",
       "      <td>27000</td>\n",
       "      <td>2</td>\n",
       "      <td>0</td>\n",
       "      <td>1</td>\n",
       "      <td>0</td>\n",
       "    </tr>\n",
       "    <tr>\n",
       "      <th>1</th>\n",
       "      <td>sx4</td>\n",
       "      <td>2013</td>\n",
       "      <td>4.75</td>\n",
       "      <td>9.54</td>\n",
       "      <td>43000</td>\n",
       "      <td>1</td>\n",
       "      <td>0</td>\n",
       "      <td>1</td>\n",
       "      <td>0</td>\n",
       "    </tr>\n",
       "    <tr>\n",
       "      <th>2</th>\n",
       "      <td>ciaz</td>\n",
       "      <td>2017</td>\n",
       "      <td>7.25</td>\n",
       "      <td>9.85</td>\n",
       "      <td>6900</td>\n",
       "      <td>2</td>\n",
       "      <td>0</td>\n",
       "      <td>1</td>\n",
       "      <td>0</td>\n",
       "    </tr>\n",
       "    <tr>\n",
       "      <th>3</th>\n",
       "      <td>wagon r</td>\n",
       "      <td>2011</td>\n",
       "      <td>2.85</td>\n",
       "      <td>4.15</td>\n",
       "      <td>5200</td>\n",
       "      <td>2</td>\n",
       "      <td>0</td>\n",
       "      <td>1</td>\n",
       "      <td>0</td>\n",
       "    </tr>\n",
       "    <tr>\n",
       "      <th>4</th>\n",
       "      <td>swift</td>\n",
       "      <td>2014</td>\n",
       "      <td>4.60</td>\n",
       "      <td>6.87</td>\n",
       "      <td>42450</td>\n",
       "      <td>1</td>\n",
       "      <td>0</td>\n",
       "      <td>1</td>\n",
       "      <td>0</td>\n",
       "    </tr>\n",
       "  </tbody>\n",
       "</table>\n",
       "</div>"
      ],
      "text/plain": [
       "  Car_Name  Year  Selling_Price  Present_Price  Kms_Driven  Fuel_Type  \\\n",
       "0     ritz  2014           3.35           5.59       27000          2   \n",
       "1      sx4  2013           4.75           9.54       43000          1   \n",
       "2     ciaz  2017           7.25           9.85        6900          2   \n",
       "3  wagon r  2011           2.85           4.15        5200          2   \n",
       "4    swift  2014           4.60           6.87       42450          1   \n",
       "\n",
       "   Seller_Type  Transmission  Owner  \n",
       "0            0             1      0  \n",
       "1            0             1      0  \n",
       "2            0             1      0  \n",
       "3            0             1      0  \n",
       "4            0             1      0  "
      ]
     },
     "execution_count": 6,
     "metadata": {},
     "output_type": "execute_result"
    }
   ],
   "source": [
    "df.head()"
   ]
  },
  {
   "cell_type": "code",
   "execution_count": 7,
   "id": "d072ea75",
   "metadata": {},
   "outputs": [],
   "source": [
    "##Fuel_Type=   0=cng,1=disel,2=petrol\n",
    "##Seller_Type= 0=dealer,1=individual\n",
    "##Transmission= 0=Automatic,1=Manual"
   ]
  },
  {
   "cell_type": "code",
   "execution_count": 8,
   "id": "0db22893",
   "metadata": {},
   "outputs": [],
   "source": [
    "df=df.drop(['Car_Name'],axis=1)             ##droping car name"
   ]
  },
  {
   "cell_type": "code",
   "execution_count": 9,
   "id": "5dc87759",
   "metadata": {},
   "outputs": [
    {
     "name": "stdout",
     "output_type": "stream",
     "text": [
      "<class 'pandas.core.frame.DataFrame'>\n",
      "RangeIndex: 301 entries, 0 to 300\n",
      "Data columns (total 8 columns):\n",
      " #   Column         Non-Null Count  Dtype  \n",
      "---  ------         --------------  -----  \n",
      " 0   Year           301 non-null    int64  \n",
      " 1   Selling_Price  301 non-null    float64\n",
      " 2   Present_Price  301 non-null    float64\n",
      " 3   Kms_Driven     301 non-null    int64  \n",
      " 4   Fuel_Type      301 non-null    int32  \n",
      " 5   Seller_Type    301 non-null    int32  \n",
      " 6   Transmission   301 non-null    int32  \n",
      " 7   Owner          301 non-null    int64  \n",
      "dtypes: float64(2), int32(3), int64(3)\n",
      "memory usage: 15.4 KB\n"
     ]
    }
   ],
   "source": [
    "df.info()                                  ## printing some information"
   ]
  },
  {
   "cell_type": "code",
   "execution_count": null,
   "id": "c85f0a33",
   "metadata": {},
   "outputs": [],
   "source": []
  },
  {
   "cell_type": "code",
   "execution_count": null,
   "id": "8d28d1a8",
   "metadata": {},
   "outputs": [],
   "source": []
  },
  {
   "cell_type": "markdown",
   "id": "c0579727",
   "metadata": {},
   "source": [
    "# Handling missing value"
   ]
  },
  {
   "cell_type": "code",
   "execution_count": 10,
   "id": "82889c1d",
   "metadata": {},
   "outputs": [
    {
     "data": {
      "text/plain": [
       "Year             0\n",
       "Selling_Price    0\n",
       "Present_Price    0\n",
       "Kms_Driven       0\n",
       "Fuel_Type        0\n",
       "Seller_Type      0\n",
       "Transmission     0\n",
       "Owner            0\n",
       "dtype: int64"
      ]
     },
     "execution_count": 10,
     "metadata": {},
     "output_type": "execute_result"
    }
   ],
   "source": [
    "df.isnull().sum()                             ##checking null values"
   ]
  },
  {
   "cell_type": "code",
   "execution_count": 11,
   "id": "c1ae4217",
   "metadata": {},
   "outputs": [
    {
     "data": {
      "text/plain": [
       "2"
      ]
     },
     "execution_count": 11,
     "metadata": {},
     "output_type": "execute_result"
    }
   ],
   "source": [
    "df.duplicated().sum()                           ##checking duplicate rows"
   ]
  },
  {
   "cell_type": "code",
   "execution_count": 12,
   "id": "96479388",
   "metadata": {},
   "outputs": [
    {
     "data": {
      "text/plain": [
       "0"
      ]
     },
     "execution_count": 12,
     "metadata": {},
     "output_type": "execute_result"
    }
   ],
   "source": [
    "df=df.drop_duplicates(keep=False)              ##droping duplicate rows\n",
    "df.duplicated().sum()"
   ]
  },
  {
   "cell_type": "code",
   "execution_count": null,
   "id": "e24c8355",
   "metadata": {},
   "outputs": [],
   "source": []
  },
  {
   "cell_type": "code",
   "execution_count": 13,
   "id": "ce40629a",
   "metadata": {},
   "outputs": [
    {
     "data": {
      "image/png": "[encoded data removed]",
      "text/plain": [
       "<Figure size 432x288 with 1 Axes>"
      ]
     },
     "metadata": {
      "needs_background": "light"
     },
     "output_type": "display_data"
    }
   ],
   "source": [
    "plt.scatter(df.Year, df.Selling_Price)                  ## plotting graph of year vs selling price\n",
    "plt.xlabel(\"Year\")                                       \n",
    "plt.ylabel(\"Selling_price\")                             ## Here we found as the age of car increase Selling price decrease   \n",
    "plt.title(\" Year vs Selling_price\")\n",
    "plt.show()"
   ]
  },
  {
   "cell_type": "code",
   "execution_count": 14,
   "id": "1f3adbf0",
   "metadata": {},
   "outputs": [
    {
     "data": {
      "image/png": "[encoded data removed]",
      "text/plain": [
       "<Figure size 432x288 with 1 Axes>"
      ]
     },
     "metadata": {
      "needs_background": "light"
     },
     "output_type": "display_data"
    }
   ],
   "source": [
    "plt.scatter(df.Present_Price, df.Selling_Price)          ## plotting graph of present price vs selling price\n",
    "plt.xlabel(\"Present_Price\")\n",
    "plt.ylabel(\"Selling_price\")\n",
    "plt.title(\" Present_Price vs Selling_price\")             ## Here we found as present price increase selling price also increase.\n",
    "plt.show()"
   ]
  },
  {
   "cell_type": "code",
   "execution_count": 15,
   "id": "02762a21",
   "metadata": {},
   "outputs": [
    {
     "data": {
      "image/png": "[encoded data removed]",
      "text/plain": [
       "<Figure size 432x288 with 1 Axes>"
      ]
     },
     "metadata": {
      "needs_background": "light"
     },
     "output_type": "display_data"
    }
   ],
   "source": [
    "plt.scatter(df.Owner, df.Selling_Price)          ## plotting graph of Owner vs selling price\n",
    "plt.xlabel(\"Owner\")\n",
    "plt.ylabel(\"Selling_price\")\n",
    "plt.title(\" Owner vs Selling_price\")             ## Here we found as Owner_no increase selling price also decrease.\n",
    "plt.show()"
   ]
  },
  {
   "cell_type": "code",
   "execution_count": 16,
   "id": "bedb5809",
   "metadata": {},
   "outputs": [
    {
     "data": {
      "image/png": "[encoded data removed]",
      "text/plain": [
       "<Figure size 432x288 with 1 Axes>"
      ]
     },
     "metadata": {
      "needs_background": "light"
     },
     "output_type": "display_data"
    }
   ],
   "source": [
    "plt.scatter(df.Seller_Type, df.Selling_Price)          ## plotting graph of Owner vs selling price\n",
    "plt.xlabel(\"Seller_Type\")\n",
    "plt.ylabel(\"Selling_price\")\n",
    "plt.title(\" Seller_Type vs Selling_price\")             ##0=dealer,1=individual.\n",
    "plt.show()                                             ## here we found dealer are selling at high price"
   ]
  },
  {
   "cell_type": "code",
   "execution_count": null,
   "id": "46005640",
   "metadata": {},
   "outputs": [],
   "source": []
  },
  {
   "cell_type": "code",
   "execution_count": 17,
   "id": "563925c4",
   "metadata": {},
   "outputs": [],
   "source": [
    "from sklearn import preprocessing                  ##importing preprocessing library\n",
    "scaler = preprocessing.MinMaxScaler()              \n",
    "names = df.columns\n",
    "d = scaler.fit_transform(df)                        ##scaling data so that machine will treat all data equally\n",
    "scaled_df = pd.DataFrame(d, columns=names)"
   ]
  },
  {
   "cell_type": "code",
   "execution_count": 18,
   "id": "14149417",
   "metadata": {},
   "outputs": [
    {
     "data": {
      "text/html": [
       "<div>\n",
       "<style scoped>\n",
       "    .dataframe tbody tr th:only-of-type {\n",
       "        vertical-align: middle;\n",
       "    }\n",
       "\n",
       "    .dataframe tbody tr th {\n",
       "        vertical-align: top;\n",
       "    }\n",
       "\n",
       "    .dataframe thead th {\n",
       "        text-align: right;\n",
       "    }\n",
       "</style>\n",
       "<table border=\"1\" class=\"dataframe\">\n",
       "  <thead>\n",
       "    <tr style=\"text-align: right;\">\n",
       "      <th></th>\n",
       "      <th>Year</th>\n",
       "      <th>Selling_Price</th>\n",
       "      <th>Present_Price</th>\n",
       "      <th>Kms_Driven</th>\n",
       "      <th>Fuel_Type</th>\n",
       "      <th>Seller_Type</th>\n",
       "      <th>Transmission</th>\n",
       "      <th>Owner</th>\n",
       "    </tr>\n",
       "  </thead>\n",
       "  <tbody>\n",
       "    <tr>\n",
       "      <th>0</th>\n",
       "      <td>0.733333</td>\n",
       "      <td>0.093123</td>\n",
       "      <td>0.057109</td>\n",
       "      <td>0.053053</td>\n",
       "      <td>1.0</td>\n",
       "      <td>0.0</td>\n",
       "      <td>1.0</td>\n",
       "      <td>0.0</td>\n",
       "    </tr>\n",
       "    <tr>\n",
       "      <th>1</th>\n",
       "      <td>0.666667</td>\n",
       "      <td>0.133238</td>\n",
       "      <td>0.099913</td>\n",
       "      <td>0.085085</td>\n",
       "      <td>0.5</td>\n",
       "      <td>0.0</td>\n",
       "      <td>1.0</td>\n",
       "      <td>0.0</td>\n",
       "    </tr>\n",
       "    <tr>\n",
       "      <th>2</th>\n",
       "      <td>0.933333</td>\n",
       "      <td>0.204871</td>\n",
       "      <td>0.103273</td>\n",
       "      <td>0.012813</td>\n",
       "      <td>1.0</td>\n",
       "      <td>0.0</td>\n",
       "      <td>1.0</td>\n",
       "      <td>0.0</td>\n",
       "    </tr>\n",
       "    <tr>\n",
       "      <th>3</th>\n",
       "      <td>0.533333</td>\n",
       "      <td>0.078797</td>\n",
       "      <td>0.041504</td>\n",
       "      <td>0.009409</td>\n",
       "      <td>1.0</td>\n",
       "      <td>0.0</td>\n",
       "      <td>1.0</td>\n",
       "      <td>0.0</td>\n",
       "    </tr>\n",
       "    <tr>\n",
       "      <th>4</th>\n",
       "      <td>0.733333</td>\n",
       "      <td>0.128940</td>\n",
       "      <td>0.070980</td>\n",
       "      <td>0.083984</td>\n",
       "      <td>0.5</td>\n",
       "      <td>0.0</td>\n",
       "      <td>1.0</td>\n",
       "      <td>0.0</td>\n",
       "    </tr>\n",
       "  </tbody>\n",
       "</table>\n",
       "</div>"
      ],
      "text/plain": [
       "       Year  Selling_Price  Present_Price  Kms_Driven  Fuel_Type  Seller_Type  \\\n",
       "0  0.733333       0.093123       0.057109    0.053053        1.0          0.0   \n",
       "1  0.666667       0.133238       0.099913    0.085085        0.5          0.0   \n",
       "2  0.933333       0.204871       0.103273    0.012813        1.0          0.0   \n",
       "3  0.533333       0.078797       0.041504    0.009409        1.0          0.0   \n",
       "4  0.733333       0.128940       0.070980    0.083984        0.5          0.0   \n",
       "\n",
       "   Transmission  Owner  \n",
       "0           1.0    0.0  \n",
       "1           1.0    0.0  \n",
       "2           1.0    0.0  \n",
       "3           1.0    0.0  \n",
       "4           1.0    0.0  "
      ]
     },
     "execution_count": 18,
     "metadata": {},
     "output_type": "execute_result"
    }
   ],
   "source": [
    "scaled_df.head()"
   ]
  },
  {
   "cell_type": "code",
   "execution_count": 19,
   "id": "10cb00e7",
   "metadata": {},
   "outputs": [],
   "source": [
    "X = scaled_df[['Year','Kms_Driven','Fuel_Type','Transmission','Owner','Seller_Type','Present_Price']]\n",
    "y=scaled_df[['Selling_Price']]                        ##splitting data in target variable."
   ]
  },
  {
   "cell_type": "code",
   "execution_count": 20,
   "id": "58c5c5b4",
   "metadata": {},
   "outputs": [],
   "source": [
    "from sklearn.model_selection import train_test_split  ##importing train_test_split"
   ]
  },
  {
   "cell_type": "code",
   "execution_count": 21,
   "id": "2f194d5c",
   "metadata": {},
   "outputs": [],
   "source": [
    "X_train, X_test, y_train, y_test = train_test_split(X, y, test_size=0.2, random_state=2)   ##splitting data in train and test.\n"
   ]
  },
  {
   "cell_type": "code",
   "execution_count": 22,
   "id": "5fac5fe7",
   "metadata": {},
   "outputs": [
    {
     "data": {
      "text/html": [
       "<div>\n",
       "<style scoped>\n",
       "    .dataframe tbody tr th:only-of-type {\n",
       "        vertical-align: middle;\n",
       "    }\n",
       "\n",
       "    .dataframe tbody tr th {\n",
       "        vertical-align: top;\n",
       "    }\n",
       "\n",
       "    .dataframe thead th {\n",
       "        text-align: right;\n",
       "    }\n",
       "</style>\n",
       "<table border=\"1\" class=\"dataframe\">\n",
       "  <thead>\n",
       "    <tr style=\"text-align: right;\">\n",
       "      <th></th>\n",
       "      <th>Year</th>\n",
       "      <th>Kms_Driven</th>\n",
       "      <th>Fuel_Type</th>\n",
       "      <th>Transmission</th>\n",
       "      <th>Owner</th>\n",
       "      <th>Seller_Type</th>\n",
       "      <th>Present_Price</th>\n",
       "    </tr>\n",
       "  </thead>\n",
       "  <tbody>\n",
       "    <tr>\n",
       "      <th>179</th>\n",
       "      <td>0.666667</td>\n",
       "      <td>0.041041</td>\n",
       "      <td>1.0</td>\n",
       "      <td>1.0</td>\n",
       "      <td>0.0</td>\n",
       "      <td>1.0</td>\n",
       "      <td>0.001625</td>\n",
       "    </tr>\n",
       "    <tr>\n",
       "      <th>271</th>\n",
       "      <td>0.866667</td>\n",
       "      <td>0.060567</td>\n",
       "      <td>1.0</td>\n",
       "      <td>0.0</td>\n",
       "      <td>0.0</td>\n",
       "      <td>0.0</td>\n",
       "      <td>0.143910</td>\n",
       "    </tr>\n",
       "    <tr>\n",
       "      <th>225</th>\n",
       "      <td>0.600000</td>\n",
       "      <td>0.103367</td>\n",
       "      <td>0.5</td>\n",
       "      <td>1.0</td>\n",
       "      <td>0.0</td>\n",
       "      <td>0.0</td>\n",
       "      <td>0.070113</td>\n",
       "    </tr>\n",
       "    <tr>\n",
       "      <th>7</th>\n",
       "      <td>0.800000</td>\n",
       "      <td>0.065924</td>\n",
       "      <td>0.5</td>\n",
       "      <td>1.0</td>\n",
       "      <td>0.0</td>\n",
       "      <td>0.0</td>\n",
       "      <td>0.089835</td>\n",
       "    </tr>\n",
       "    <tr>\n",
       "      <th>173</th>\n",
       "      <td>0.866667</td>\n",
       "      <td>0.047047</td>\n",
       "      <td>1.0</td>\n",
       "      <td>0.0</td>\n",
       "      <td>0.0</td>\n",
       "      <td>1.0</td>\n",
       "      <td>0.002709</td>\n",
       "    </tr>\n",
       "  </tbody>\n",
       "</table>\n",
       "</div>"
      ],
      "text/plain": [
       "         Year  Kms_Driven  Fuel_Type  Transmission  Owner  Seller_Type  \\\n",
       "179  0.666667    0.041041        1.0           1.0    0.0          1.0   \n",
       "271  0.866667    0.060567        1.0           0.0    0.0          0.0   \n",
       "225  0.600000    0.103367        0.5           1.0    0.0          0.0   \n",
       "7    0.800000    0.065924        0.5           1.0    0.0          0.0   \n",
       "173  0.866667    0.047047        1.0           0.0    0.0          1.0   \n",
       "\n",
       "     Present_Price  \n",
       "179       0.001625  \n",
       "271       0.143910  \n",
       "225       0.070113  \n",
       "7         0.089835  \n",
       "173       0.002709  "
      ]
     },
     "execution_count": 22,
     "metadata": {},
     "output_type": "execute_result"
    }
   ],
   "source": [
    "X_test.head()             ##printing X_test"
   ]
  },
  {
   "cell_type": "code",
   "execution_count": 49,
   "id": "30ac3503",
   "metadata": {},
   "outputs": [
    {
     "data": {
      "text/html": [
       "<div>\n",
       "<style scoped>\n",
       "    .dataframe tbody tr th:only-of-type {\n",
       "        vertical-align: middle;\n",
       "    }\n",
       "\n",
       "    .dataframe tbody tr th {\n",
       "        vertical-align: top;\n",
       "    }\n",
       "\n",
       "    .dataframe thead th {\n",
       "        text-align: right;\n",
       "    }\n",
       "</style>\n",
       "<table border=\"1\" class=\"dataframe\">\n",
       "  <thead>\n",
       "    <tr style=\"text-align: right;\">\n",
       "      <th></th>\n",
       "      <th>Selling_Price</th>\n",
       "    </tr>\n",
       "  </thead>\n",
       "  <tbody>\n",
       "    <tr>\n",
       "      <th>0</th>\n",
       "      <td>0.093123</td>\n",
       "    </tr>\n",
       "    <tr>\n",
       "      <th>1</th>\n",
       "      <td>0.133238</td>\n",
       "    </tr>\n",
       "    <tr>\n",
       "      <th>2</th>\n",
       "      <td>0.204871</td>\n",
       "    </tr>\n",
       "    <tr>\n",
       "      <th>3</th>\n",
       "      <td>0.078797</td>\n",
       "    </tr>\n",
       "    <tr>\n",
       "      <th>4</th>\n",
       "      <td>0.128940</td>\n",
       "    </tr>\n",
       "    <tr>\n",
       "      <th>...</th>\n",
       "      <td>...</td>\n",
       "    </tr>\n",
       "    <tr>\n",
       "      <th>292</th>\n",
       "      <td>0.269341</td>\n",
       "    </tr>\n",
       "    <tr>\n",
       "      <th>293</th>\n",
       "      <td>0.111748</td>\n",
       "    </tr>\n",
       "    <tr>\n",
       "      <th>294</th>\n",
       "      <td>0.093123</td>\n",
       "    </tr>\n",
       "    <tr>\n",
       "      <th>295</th>\n",
       "      <td>0.326648</td>\n",
       "    </tr>\n",
       "    <tr>\n",
       "      <th>296</th>\n",
       "      <td>0.148997</td>\n",
       "    </tr>\n",
       "  </tbody>\n",
       "</table>\n",
       "<p>297 rows × 1 columns</p>\n",
       "</div>"
      ],
      "text/plain": [
       "     Selling_Price\n",
       "0         0.093123\n",
       "1         0.133238\n",
       "2         0.204871\n",
       "3         0.078797\n",
       "4         0.128940\n",
       "..             ...\n",
       "292       0.269341\n",
       "293       0.111748\n",
       "294       0.093123\n",
       "295       0.326648\n",
       "296       0.148997\n",
       "\n",
       "[297 rows x 1 columns]"
      ]
     },
     "execution_count": 49,
     "metadata": {},
     "output_type": "execute_result"
    }
   ],
   "source": [
    "y"
   ]
  },
  {
   "cell_type": "code",
   "execution_count": null,
   "id": "d7bc6bc9",
   "metadata": {},
   "outputs": [],
   "source": []
  },
  {
   "cell_type": "markdown",
   "id": "167aa611",
   "metadata": {},
   "source": [
    "# Linear regression"
   ]
  },
  {
   "cell_type": "code",
   "execution_count": 23,
   "id": "27e2cded",
   "metadata": {},
   "outputs": [],
   "source": [
    "from sklearn.linear_model import LinearRegression    ##importing linear regression"
   ]
  },
  {
   "cell_type": "code",
   "execution_count": 24,
   "id": "95cd00b5",
   "metadata": {},
   "outputs": [],
   "source": [
    "lm = LinearRegression()             ##making object of linear regression"
   ]
  },
  {
   "cell_type": "code",
   "execution_count": 25,
   "id": "1195fbe8",
   "metadata": {},
   "outputs": [
    {
     "data": {
      "text/plain": [
       "LinearRegression()"
      ]
     },
     "execution_count": 25,
     "metadata": {},
     "output_type": "execute_result"
    }
   ],
   "source": [
    "lm.fit(X_train,y_train)              ##fitting our model"
   ]
  },
  {
   "cell_type": "code",
   "execution_count": 26,
   "id": "87cb2441",
   "metadata": {},
   "outputs": [],
   "source": [
    "predictions = lm.predict(X_test)       ## Making prediciton on X_test"
   ]
  },
  {
   "cell_type": "code",
   "execution_count": 27,
   "id": "c0a33749",
   "metadata": {},
   "outputs": [
    {
     "data": {
      "text/plain": [
       "array([[ 8.89277223e-04],\n",
       "       [ 2.69551943e-01],\n",
       "       [ 1.37241129e-01],\n",
       "       [ 2.00214686e-01],\n",
       "       [ 7.57716196e-02],\n",
       "       [ 1.72911184e-01],\n",
       "       [ 4.33840141e-05],\n",
       "       [-2.27924192e-02],\n",
       "       [ 1.25272296e-01],\n",
       "       [-7.30539605e-03],\n",
       "       [ 1.48118821e-01],\n",
       "       [ 1.25713084e-01],\n",
       "       [-1.16256092e-01],\n",
       "       [ 7.78338364e-02],\n",
       "       [ 2.92377592e-01],\n",
       "       [ 1.19733717e-01],\n",
       "       [ 7.01697137e-02],\n",
       "       [ 2.56205288e-01],\n",
       "       [ 2.40232568e-01],\n",
       "       [ 1.27403772e-01],\n",
       "       [ 5.56274426e-02],\n",
       "       [ 5.21049565e-02],\n",
       "       [ 5.88566017e-02],\n",
       "       [ 2.71996462e-02],\n",
       "       [ 4.46251161e-02],\n",
       "       [ 1.79181873e-01],\n",
       "       [ 1.46596328e-01],\n",
       "       [ 1.19984978e-01],\n",
       "       [ 5.44833442e-03],\n",
       "       [ 4.06372822e-02],\n",
       "       [ 5.29396210e-02],\n",
       "       [ 3.26903994e-01],\n",
       "       [ 8.35489745e-02],\n",
       "       [ 2.73880753e-01],\n",
       "       [ 8.99985057e-02],\n",
       "       [ 2.21623126e-01],\n",
       "       [ 1.77523621e-02],\n",
       "       [ 1.44506633e-02],\n",
       "       [ 5.77874916e-02],\n",
       "       [ 5.91160741e-02],\n",
       "       [ 2.20112373e-01],\n",
       "       [ 5.27853502e-02],\n",
       "       [ 5.22717696e-03],\n",
       "       [ 3.09621988e-02],\n",
       "       [ 5.04125935e-02],\n",
       "       [ 8.91435938e-02],\n",
       "       [-9.50423508e-02],\n",
       "       [ 1.20649619e-01],\n",
       "       [ 1.62844914e-01],\n",
       "       [-1.88463144e-02],\n",
       "       [ 3.15542852e-02],\n",
       "       [ 6.80768112e-02],\n",
       "       [ 1.25193633e-01],\n",
       "       [ 1.81533619e-01],\n",
       "       [ 1.82441432e-02],\n",
       "       [ 1.64949954e-01],\n",
       "       [ 4.94612004e-02],\n",
       "       [ 2.07951042e-01],\n",
       "       [ 4.87822839e-02],\n",
       "       [ 1.65475170e-01]])"
      ]
     },
     "execution_count": 27,
     "metadata": {},
     "output_type": "execute_result"
    }
   ],
   "source": [
    "predictions                            ##printing  predictions"
   ]
  },
  {
   "cell_type": "code",
   "execution_count": 28,
   "id": "402f6c61",
   "metadata": {},
   "outputs": [
    {
     "data": {
      "text/html": [
       "<div>\n",
       "<style scoped>\n",
       "    .dataframe tbody tr th:only-of-type {\n",
       "        vertical-align: middle;\n",
       "    }\n",
       "\n",
       "    .dataframe tbody tr th {\n",
       "        vertical-align: top;\n",
       "    }\n",
       "\n",
       "    .dataframe thead th {\n",
       "        text-align: right;\n",
       "    }\n",
       "</style>\n",
       "<table border=\"1\" class=\"dataframe\">\n",
       "  <thead>\n",
       "    <tr style=\"text-align: right;\">\n",
       "      <th></th>\n",
       "      <th>Selling_Price</th>\n",
       "    </tr>\n",
       "  </thead>\n",
       "  <tbody>\n",
       "    <tr>\n",
       "      <th>179</th>\n",
       "      <td>0.004871</td>\n",
       "    </tr>\n",
       "    <tr>\n",
       "      <th>271</th>\n",
       "      <td>0.309456</td>\n",
       "    </tr>\n",
       "    <tr>\n",
       "      <th>225</th>\n",
       "      <td>0.085960</td>\n",
       "    </tr>\n",
       "    <tr>\n",
       "      <th>7</th>\n",
       "      <td>0.183381</td>\n",
       "    </tr>\n",
       "    <tr>\n",
       "      <th>173</th>\n",
       "      <td>0.007163</td>\n",
       "    </tr>\n",
       "  </tbody>\n",
       "</table>\n",
       "</div>"
      ],
      "text/plain": [
       "     Selling_Price\n",
       "179       0.004871\n",
       "271       0.309456\n",
       "225       0.085960\n",
       "7         0.183381\n",
       "173       0.007163"
      ]
     },
     "execution_count": 28,
     "metadata": {},
     "output_type": "execute_result"
    }
   ],
   "source": [
    "y_test.head()       "
   ]
  },
  {
   "cell_type": "code",
   "execution_count": 29,
   "id": "59d416a2",
   "metadata": {},
   "outputs": [],
   "source": [
    "from sklearn import metrics\n",
    "from sklearn.metrics import r2_score             "
   ]
  },
  {
   "cell_type": "code",
   "execution_count": 30,
   "id": "d8e46ba3",
   "metadata": {},
   "outputs": [
    {
     "name": "stdout",
     "output_type": "stream",
     "text": [
      "r2 score is  0.8333431697377914\n",
      "MSE: 0.0016044549324436494\n",
      "RMSE: 0.04005564794687073\n"
     ]
    }
   ],
   "source": [
    "score=r2_score(y_test,predictions)\n",
    "print('r2 score is ',score)                                             ## calculalting r^2 score,MSE,RMSE.\n",
    "print('MSE:', metrics.mean_squared_error(y_test, predictions)) \n",
    "print('RMSE:', np.sqrt(metrics.mean_squared_error(y_test, predictions)))"
   ]
  },
  {
   "cell_type": "code",
   "execution_count": 31,
   "id": "c10a56f9",
   "metadata": {
    "scrolled": true
   },
   "outputs": [
    {
     "data": {
      "image/png": "[encoded data removed]",
      "text/plain": [
       "<Figure size 432x288 with 1 Axes>"
      ]
     },
     "metadata": {
      "needs_background": "light"
     },
     "output_type": "display_data"
    }
   ],
   "source": [
    "plt.scatter(y_test, predictions)       ##ploting graph between Actualselling price and predicted selling price\n",
    "plt.xlabel(\"Actual Price\")             \n",
    "plt.ylabel(\"Predicted Price\")          ##Here we found that Actualselling price and predicted selling price are almost equall.\n",
    "plt.title(\" Actual Prices vs Predicted Prices\")\n",
    "plt.show()"
   ]
  },
  {
   "cell_type": "markdown",
   "id": "053db7d1",
   "metadata": {},
   "source": [
    "# Assumption"
   ]
  },
  {
   "cell_type": "code",
   "execution_count": 32,
   "id": "36ab242b",
   "metadata": {},
   "outputs": [
    {
     "data": {
      "text/html": [
       "<style  type=\"text/css\" >\n",
       "#T_969fc_row0_col0,#T_969fc_row1_col1,#T_969fc_row2_col2,#T_969fc_row3_col3,#T_969fc_row4_col4,#T_969fc_row5_col5,#T_969fc_row6_col6{\n",
       "            background-color:  #b40426;\n",
       "            color:  #f1f1f1;\n",
       "        }#T_969fc_row0_col1,#T_969fc_row0_col4,#T_969fc_row1_col0,#T_969fc_row5_col6,#T_969fc_row6_col2,#T_969fc_row6_col3,#T_969fc_row6_col5{\n",
       "            background-color:  #3b4cc0;\n",
       "            color:  #f1f1f1;\n",
       "        }#T_969fc_row0_col2,#T_969fc_row1_col5{\n",
       "            background-color:  #94b6ff;\n",
       "            color:  #000000;\n",
       "        }#T_969fc_row0_col3{\n",
       "            background-color:  #8caffe;\n",
       "            color:  #000000;\n",
       "        }#T_969fc_row0_col5{\n",
       "            background-color:  #a3c2fe;\n",
       "            color:  #000000;\n",
       "        }#T_969fc_row0_col6{\n",
       "            background-color:  #9ebeff;\n",
       "            color:  #000000;\n",
       "        }#T_969fc_row1_col2{\n",
       "            background-color:  #7396f5;\n",
       "            color:  #000000;\n",
       "        }#T_969fc_row1_col3{\n",
       "            background-color:  #5e7de7;\n",
       "            color:  #000000;\n",
       "        }#T_969fc_row1_col4{\n",
       "            background-color:  #7a9df8;\n",
       "            color:  #000000;\n",
       "        }#T_969fc_row1_col6{\n",
       "            background-color:  #d6dce4;\n",
       "            color:  #000000;\n",
       "        }#T_969fc_row2_col0{\n",
       "            background-color:  #a5c3fe;\n",
       "            color:  #000000;\n",
       "        }#T_969fc_row2_col1,#T_969fc_row3_col1{\n",
       "            background-color:  #88abfd;\n",
       "            color:  #000000;\n",
       "        }#T_969fc_row2_col3,#T_969fc_row5_col3{\n",
       "            background-color:  #98b9ff;\n",
       "            color:  #000000;\n",
       "        }#T_969fc_row2_col4{\n",
       "            background-color:  #779af7;\n",
       "            color:  #000000;\n",
       "        }#T_969fc_row2_col5{\n",
       "            background-color:  #ecd3c5;\n",
       "            color:  #000000;\n",
       "        }#T_969fc_row2_col6{\n",
       "            background-color:  #4c66d6;\n",
       "            color:  #000000;\n",
       "        }#T_969fc_row3_col0{\n",
       "            background-color:  #afcafc;\n",
       "            color:  #000000;\n",
       "        }#T_969fc_row3_col2{\n",
       "            background-color:  #abc8fd;\n",
       "            color:  #000000;\n",
       "        }#T_969fc_row3_col4,#T_969fc_row3_col6{\n",
       "            background-color:  #6282ea;\n",
       "            color:  #000000;\n",
       "        }#T_969fc_row3_col5{\n",
       "            background-color:  #b7cff9;\n",
       "            color:  #000000;\n",
       "        }#T_969fc_row4_col0{\n",
       "            background-color:  #86a9fc;\n",
       "            color:  #000000;\n",
       "        }#T_969fc_row4_col1{\n",
       "            background-color:  #bbd1f8;\n",
       "            color:  #000000;\n",
       "        }#T_969fc_row4_col2{\n",
       "            background-color:  #aac7fd;\n",
       "            color:  #000000;\n",
       "        }#T_969fc_row4_col3{\n",
       "            background-color:  #84a7fc;\n",
       "            color:  #000000;\n",
       "        }#T_969fc_row4_col5{\n",
       "            background-color:  #c6d6f1;\n",
       "            color:  #000000;\n",
       "        }#T_969fc_row4_col6{\n",
       "            background-color:  #a7c5fe;\n",
       "            color:  #000000;\n",
       "        }#T_969fc_row5_col0{\n",
       "            background-color:  #a6c4fe;\n",
       "            color:  #000000;\n",
       "        }#T_969fc_row5_col1{\n",
       "            background-color:  #97b8ff;\n",
       "            color:  #000000;\n",
       "        }#T_969fc_row5_col2{\n",
       "            background-color:  #e6d7cf;\n",
       "            color:  #000000;\n",
       "        }#T_969fc_row5_col4{\n",
       "            background-color:  #8db0fe;\n",
       "            color:  #000000;\n",
       "        }#T_969fc_row6_col0{\n",
       "            background-color:  #a1c0ff;\n",
       "            color:  #000000;\n",
       "        }#T_969fc_row6_col1{\n",
       "            background-color:  #d8dce2;\n",
       "            color:  #000000;\n",
       "        }#T_969fc_row6_col4{\n",
       "            background-color:  #6384eb;\n",
       "            color:  #000000;\n",
       "        }</style><table id=\"T_969fc_\" ><thead>    <tr>        <th class=\"blank level0\" ></th>        <th class=\"col_heading level0 col0\" >Year</th>        <th class=\"col_heading level0 col1\" >Kms_Driven</th>        <th class=\"col_heading level0 col2\" >Fuel_Type</th>        <th class=\"col_heading level0 col3\" >Transmission</th>        <th class=\"col_heading level0 col4\" >Owner</th>        <th class=\"col_heading level0 col5\" >Seller_Type</th>        <th class=\"col_heading level0 col6\" >Present_Price</th>    </tr></thead><tbody>\n",
       "                <tr>\n",
       "                        <th id=\"T_969fc_level0_row0\" class=\"row_heading level0 row0\" >Year</th>\n",
       "                        <td id=\"T_969fc_row0_col0\" class=\"data row0 col0\" >1.000000</td>\n",
       "                        <td id=\"T_969fc_row0_col1\" class=\"data row0 col1\" >-0.527109</td>\n",
       "                        <td id=\"T_969fc_row0_col2\" class=\"data row0 col2\" >-0.038479</td>\n",
       "                        <td id=\"T_969fc_row0_col3\" class=\"data row0 col3\" >0.006618</td>\n",
       "                        <td id=\"T_969fc_row0_col4\" class=\"data row0 col4\" >-0.170146</td>\n",
       "                        <td id=\"T_969fc_row0_col5\" class=\"data row0 col5\" >-0.033682</td>\n",
       "                        <td id=\"T_969fc_row0_col6\" class=\"data row0 col6\" >-0.059814</td>\n",
       "            </tr>\n",
       "            <tr>\n",
       "                        <th id=\"T_969fc_level0_row1\" class=\"row_heading level0 row1\" >Kms_Driven</th>\n",
       "                        <td id=\"T_969fc_row1_col0\" class=\"data row1 col0\" >-0.527109</td>\n",
       "                        <td id=\"T_969fc_row1_col1\" class=\"data row1 col1\" >1.000000</td>\n",
       "                        <td id=\"T_969fc_row1_col2\" class=\"data row1 col2\" >-0.167815</td>\n",
       "                        <td id=\"T_969fc_row1_col3\" class=\"data row1 col3\" >-0.165302</td>\n",
       "                        <td id=\"T_969fc_row1_col4\" class=\"data row1 col4\" >0.062084</td>\n",
       "                        <td id=\"T_969fc_row1_col5\" class=\"data row1 col5\" >-0.100634</td>\n",
       "                        <td id=\"T_969fc_row1_col6\" class=\"data row1 col6\" >0.206938</td>\n",
       "            </tr>\n",
       "            <tr>\n",
       "                        <th id=\"T_969fc_level0_row2\" class=\"row_heading level0 row2\" >Fuel_Type</th>\n",
       "                        <td id=\"T_969fc_row2_col0\" class=\"data row2 col0\" >-0.038479</td>\n",
       "                        <td id=\"T_969fc_row2_col1\" class=\"data row2 col1\" >-0.167815</td>\n",
       "                        <td id=\"T_969fc_row2_col2\" class=\"data row2 col2\" >1.000000</td>\n",
       "                        <td id=\"T_969fc_row2_col3\" class=\"data row2 col3\" >0.056032</td>\n",
       "                        <td id=\"T_969fc_row2_col4\" class=\"data row2 col4\" >0.053787</td>\n",
       "                        <td id=\"T_969fc_row2_col5\" class=\"data row2 col5\" >0.343277</td>\n",
       "                        <td id=\"T_969fc_row2_col6\" class=\"data row2 col6\" >-0.422626</td>\n",
       "            </tr>\n",
       "            <tr>\n",
       "                        <th id=\"T_969fc_level0_row3\" class=\"row_heading level0 row3\" >Transmission</th>\n",
       "                        <td id=\"T_969fc_row3_col0\" class=\"data row3 col0\" >0.006618</td>\n",
       "                        <td id=\"T_969fc_row3_col1\" class=\"data row3 col1\" >-0.165302</td>\n",
       "                        <td id=\"T_969fc_row3_col2\" class=\"data row3 col2\" >0.056032</td>\n",
       "                        <td id=\"T_969fc_row3_col3\" class=\"data row3 col3\" >1.000000</td>\n",
       "                        <td id=\"T_969fc_row3_col4\" class=\"data row3 col4\" >-0.021956</td>\n",
       "                        <td id=\"T_969fc_row3_col5\" class=\"data row3 col5\" >0.053911</td>\n",
       "                        <td id=\"T_969fc_row3_col6\" class=\"data row3 col6\" >-0.319011</td>\n",
       "            </tr>\n",
       "            <tr>\n",
       "                        <th id=\"T_969fc_level0_row4\" class=\"row_heading level0 row4\" >Owner</th>\n",
       "                        <td id=\"T_969fc_row4_col0\" class=\"data row4 col0\" >-0.170146</td>\n",
       "                        <td id=\"T_969fc_row4_col1\" class=\"data row4 col1\" >0.062084</td>\n",
       "                        <td id=\"T_969fc_row4_col2\" class=\"data row4 col2\" >0.053787</td>\n",
       "                        <td id=\"T_969fc_row4_col3\" class=\"data row4 col3\" >-0.021956</td>\n",
       "                        <td id=\"T_969fc_row4_col4\" class=\"data row4 col4\" >1.000000</td>\n",
       "                        <td id=\"T_969fc_row4_col5\" class=\"data row4 col5\" >0.122465</td>\n",
       "                        <td id=\"T_969fc_row4_col6\" class=\"data row4 col6\" >-0.016407</td>\n",
       "            </tr>\n",
       "            <tr>\n",
       "                        <th id=\"T_969fc_level0_row5\" class=\"row_heading level0 row5\" >Seller_Type</th>\n",
       "                        <td id=\"T_969fc_row5_col0\" class=\"data row5 col0\" >-0.033682</td>\n",
       "                        <td id=\"T_969fc_row5_col1\" class=\"data row5 col1\" >-0.100634</td>\n",
       "                        <td id=\"T_969fc_row5_col2\" class=\"data row5 col2\" >0.343277</td>\n",
       "                        <td id=\"T_969fc_row5_col3\" class=\"data row5 col3\" >0.053911</td>\n",
       "                        <td id=\"T_969fc_row5_col4\" class=\"data row5 col4\" >0.122465</td>\n",
       "                        <td id=\"T_969fc_row5_col5\" class=\"data row5 col5\" >1.000000</td>\n",
       "                        <td id=\"T_969fc_row5_col6\" class=\"data row5 col6\" >-0.511354</td>\n",
       "            </tr>\n",
       "            <tr>\n",
       "                        <th id=\"T_969fc_level0_row6\" class=\"row_heading level0 row6\" >Present_Price</th>\n",
       "                        <td id=\"T_969fc_row6_col0\" class=\"data row6 col0\" >-0.059814</td>\n",
       "                        <td id=\"T_969fc_row6_col1\" class=\"data row6 col1\" >0.206938</td>\n",
       "                        <td id=\"T_969fc_row6_col2\" class=\"data row6 col2\" >-0.422626</td>\n",
       "                        <td id=\"T_969fc_row6_col3\" class=\"data row6 col3\" >-0.319011</td>\n",
       "                        <td id=\"T_969fc_row6_col4\" class=\"data row6 col4\" >-0.016407</td>\n",
       "                        <td id=\"T_969fc_row6_col5\" class=\"data row6 col5\" >-0.511354</td>\n",
       "                        <td id=\"T_969fc_row6_col6\" class=\"data row6 col6\" >1.000000</td>\n",
       "            </tr>\n",
       "    </tbody></table>"
      ],
      "text/plain": [
       "<pandas.io.formats.style.Styler at 0x1d31be8e940>"
      ]
     },
     "execution_count": 32,
     "metadata": {},
     "output_type": "execute_result"
    }
   ],
   "source": [
    "corr=X.corr()                                   ##Checking weather independent variable are corellated with each other or not.\n",
    "corr.style.background_gradient(cmap='coolwarm')"
   ]
  },
  {
   "cell_type": "code",
   "execution_count": 33,
   "id": "79debe54",
   "metadata": {},
   "outputs": [
    {
     "data": {
      "text/html": [
       "<div>\n",
       "<style scoped>\n",
       "    .dataframe tbody tr th:only-of-type {\n",
       "        vertical-align: middle;\n",
       "    }\n",
       "\n",
       "    .dataframe tbody tr th {\n",
       "        vertical-align: top;\n",
       "    }\n",
       "\n",
       "    .dataframe thead th {\n",
       "        text-align: right;\n",
       "    }\n",
       "</style>\n",
       "<table border=\"1\" class=\"dataframe\">\n",
       "  <thead>\n",
       "    <tr style=\"text-align: right;\">\n",
       "      <th></th>\n",
       "      <th>0</th>\n",
       "      <th>1</th>\n",
       "    </tr>\n",
       "  </thead>\n",
       "  <tbody>\n",
       "    <tr>\n",
       "      <th>0</th>\n",
       "      <td>0.004871</td>\n",
       "      <td>0.000889</td>\n",
       "    </tr>\n",
       "    <tr>\n",
       "      <th>1</th>\n",
       "      <td>0.309456</td>\n",
       "      <td>0.269552</td>\n",
       "    </tr>\n",
       "    <tr>\n",
       "      <th>2</th>\n",
       "      <td>0.085960</td>\n",
       "      <td>0.137241</td>\n",
       "    </tr>\n",
       "    <tr>\n",
       "      <th>3</th>\n",
       "      <td>0.183381</td>\n",
       "      <td>0.200215</td>\n",
       "    </tr>\n",
       "    <tr>\n",
       "      <th>4</th>\n",
       "      <td>0.007163</td>\n",
       "      <td>0.075772</td>\n",
       "    </tr>\n",
       "  </tbody>\n",
       "</table>\n",
       "</div>"
      ],
      "text/plain": [
       "          0         1\n",
       "0  0.004871  0.000889\n",
       "1  0.309456  0.269552\n",
       "2  0.085960  0.137241\n",
       "3  0.183381  0.200215\n",
       "4  0.007163  0.075772"
      ]
     },
     "execution_count": 33,
     "metadata": {},
     "output_type": "execute_result"
    }
   ],
   "source": [
    "# Levene test for Homoscedasticity\n",
    "residual_test = np.column_stack([y_test,predictions])\n",
    "residual_test = pd.DataFrame(residual_test)           ##making dataframe of Yactual and prediction.\n",
    "residual_test.head()\n"
   ]
  },
  {
   "cell_type": "code",
   "execution_count": 34,
   "id": "230a2c0f",
   "metadata": {},
   "outputs": [
    {
     "data": {
      "text/html": [
       "<div>\n",
       "<style scoped>\n",
       "    .dataframe tbody tr th:only-of-type {\n",
       "        vertical-align: middle;\n",
       "    }\n",
       "\n",
       "    .dataframe tbody tr th {\n",
       "        vertical-align: top;\n",
       "    }\n",
       "\n",
       "    .dataframe thead th {\n",
       "        text-align: right;\n",
       "    }\n",
       "</style>\n",
       "<table border=\"1\" class=\"dataframe\">\n",
       "  <thead>\n",
       "    <tr style=\"text-align: right;\">\n",
       "      <th></th>\n",
       "      <th>Yactual</th>\n",
       "      <th>predictions</th>\n",
       "    </tr>\n",
       "  </thead>\n",
       "  <tbody>\n",
       "    <tr>\n",
       "      <th>0</th>\n",
       "      <td>0.004871</td>\n",
       "      <td>0.000889</td>\n",
       "    </tr>\n",
       "    <tr>\n",
       "      <th>1</th>\n",
       "      <td>0.309456</td>\n",
       "      <td>0.269552</td>\n",
       "    </tr>\n",
       "    <tr>\n",
       "      <th>2</th>\n",
       "      <td>0.085960</td>\n",
       "      <td>0.137241</td>\n",
       "    </tr>\n",
       "    <tr>\n",
       "      <th>3</th>\n",
       "      <td>0.183381</td>\n",
       "      <td>0.200215</td>\n",
       "    </tr>\n",
       "    <tr>\n",
       "      <th>4</th>\n",
       "      <td>0.007163</td>\n",
       "      <td>0.075772</td>\n",
       "    </tr>\n",
       "  </tbody>\n",
       "</table>\n",
       "</div>"
      ],
      "text/plain": [
       "    Yactual  predictions\n",
       "0  0.004871     0.000889\n",
       "1  0.309456     0.269552\n",
       "2  0.085960     0.137241\n",
       "3  0.183381     0.200215\n",
       "4  0.007163     0.075772"
      ]
     },
     "execution_count": 34,
     "metadata": {},
     "output_type": "execute_result"
    }
   ],
   "source": [
    "residual_test.columns='Yactual predictions'.split()        ##Naming the columns as Yactual and predictions\n",
    "residual_test.head()\n",
    "#residual_test.columns=['Yactual','predictions']"
   ]
  },
  {
   "cell_type": "code",
   "execution_count": 35,
   "id": "5505ba95",
   "metadata": {},
   "outputs": [
    {
     "data": {
      "text/html": [
       "<div>\n",
       "<style scoped>\n",
       "    .dataframe tbody tr th:only-of-type {\n",
       "        vertical-align: middle;\n",
       "    }\n",
       "\n",
       "    .dataframe tbody tr th {\n",
       "        vertical-align: top;\n",
       "    }\n",
       "\n",
       "    .dataframe thead th {\n",
       "        text-align: right;\n",
       "    }\n",
       "</style>\n",
       "<table border=\"1\" class=\"dataframe\">\n",
       "  <thead>\n",
       "    <tr style=\"text-align: right;\">\n",
       "      <th></th>\n",
       "      <th>Yactual</th>\n",
       "      <th>predictions</th>\n",
       "      <th>Residuals</th>\n",
       "    </tr>\n",
       "  </thead>\n",
       "  <tbody>\n",
       "    <tr>\n",
       "      <th>0</th>\n",
       "      <td>0.004871</td>\n",
       "      <td>0.000889</td>\n",
       "      <td>0.003982</td>\n",
       "    </tr>\n",
       "    <tr>\n",
       "      <th>1</th>\n",
       "      <td>0.309456</td>\n",
       "      <td>0.269552</td>\n",
       "      <td>0.039904</td>\n",
       "    </tr>\n",
       "    <tr>\n",
       "      <th>2</th>\n",
       "      <td>0.085960</td>\n",
       "      <td>0.137241</td>\n",
       "      <td>-0.051281</td>\n",
       "    </tr>\n",
       "    <tr>\n",
       "      <th>3</th>\n",
       "      <td>0.183381</td>\n",
       "      <td>0.200215</td>\n",
       "      <td>-0.016834</td>\n",
       "    </tr>\n",
       "    <tr>\n",
       "      <th>4</th>\n",
       "      <td>0.007163</td>\n",
       "      <td>0.075772</td>\n",
       "      <td>-0.068608</td>\n",
       "    </tr>\n",
       "  </tbody>\n",
       "</table>\n",
       "</div>"
      ],
      "text/plain": [
       "    Yactual  predictions  Residuals\n",
       "0  0.004871     0.000889   0.003982\n",
       "1  0.309456     0.269552   0.039904\n",
       "2  0.085960     0.137241  -0.051281\n",
       "3  0.183381     0.200215  -0.016834\n",
       "4  0.007163     0.075772  -0.068608"
      ]
     },
     "execution_count": 35,
     "metadata": {},
     "output_type": "execute_result"
    }
   ],
   "source": [
    " # Calculating residuals for the Anderson-Darling test\n",
    "residual_test['Residuals']=abs(residual_test['Yactual']) - abs(residual_test['predictions'])\n",
    "residual_test.head()                                                                            ##calculation residuals\n",
    "                                                                                                ##residuals-Yactual-prediction"
   ]
  },
  {
   "cell_type": "code",
   "execution_count": 36,
   "id": "74d757d0",
   "metadata": {},
   "outputs": [
    {
     "name": "stdout",
     "output_type": "stream",
     "text": [
      "Assumption 2: The error terms are normally distributed \n",
      "\n",
      "Using the Anderson-Darling test for normal distribution\n",
      "p-value from the test - below 0.05 generally means non-normal: 0.14387310938159134\n",
      "Residuals are normally distributed\n"
     ]
    },
    {
     "name": "stderr",
     "output_type": "stream",
     "text": [
      "C:\\Users\\Yash Garg\\anaconda3\\lib\\site-packages\\seaborn\\distributions.py:2557: FutureWarning: `distplot` is a deprecated function and will be removed in a future version. Please adapt your code to use either `displot` (a figure-level function with similar flexibility) or `histplot` (an axes-level function for histograms).\n",
      "  warnings.warn(msg, FutureWarning)\n"
     ]
    },
    {
     "data": {
      "image/png": "[encoded data removed]",
      "text/plain": [
       "<Figure size 864x432 with 1 Axes>"
      ]
     },
     "metadata": {
      "needs_background": "light"
     },
     "output_type": "display_data"
    },
    {
     "name": "stdout",
     "output_type": "stream",
     "text": [
      "\n",
      "Assumption satisfied\n"
     ]
    }
   ],
   "source": [
    "    from statsmodels.stats.diagnostic import normal_ad\n",
    "    print('Assumption 2: The error terms are normally distributed', '\\n')\n",
    "    \n",
    "   \n",
    "    print('Using the Anderson-Darling test for normal distribution')\n",
    "\n",
    "    # Performing the test on the residuals\n",
    "    p_value = normal_ad(residual_test['Residuals'])[1]\n",
    "    print('p-value from the test - below 0.05 generally means non-normal:', p_value)\n",
    "    \n",
    "    # Reporting the normality of the residuals\n",
    "    if p_value < 0.05:\n",
    "        print('Residuals are not normally distributed')\n",
    "    else:\n",
    "        print('Residuals are normally distributed')\n",
    "    \n",
    "    # Plotting the residuals distribution\n",
    "    plt.subplots(figsize=(12, 6))\n",
    "    plt.title('Distribution of Residuals')\n",
    "    sns.distplot(residual_test['Residuals'])\n",
    "    plt.show()\n",
    "    \n",
    "    print()\n",
    "    if p_value > 0.05:\n",
    "        print('Assumption satisfied')\n",
    "    else:\n",
    "        print('Assumption not satisfied')\n",
    "        print()\n",
    "        print('Confidence intervals will likely be affected')\n",
    "        print('Try performing nonlinear transformations on variables')"
   ]
  },
  {
   "cell_type": "code",
   "execution_count": null,
   "id": "5d18c46c",
   "metadata": {},
   "outputs": [],
   "source": []
  },
  {
   "cell_type": "code",
   "execution_count": 37,
   "id": "53ded9d2",
   "metadata": {},
   "outputs": [
    {
     "data": {
      "image/png": "[encoded data removed]",
      "text/plain": [
       "<Figure size 1440x1440 with 72 Axes>"
      ]
     },
     "metadata": {
      "needs_background": "light"
     },
     "output_type": "display_data"
    },
    {
     "data": {
      "image/png": "[encoded data removed]",
      "text/plain": [
       "<Figure size 432x288 with 1 Axes>"
      ]
     },
     "metadata": {
      "needs_background": "light"
     },
     "output_type": "display_data"
    }
   ],
   "source": [
    "sns.pairplot(df, kind=\"reg\")          ##Checking linear relationship between the dependent and independent variables\n",
    "plt.show()\n",
    "# Linearity assumption\n",
    "plt.scatter(residual_test['Yactual'],residual_test['predictions'])\n",
    "plt.show()"
   ]
  },
  {
   "cell_type": "code",
   "execution_count": 38,
   "id": "613aef6b",
   "metadata": {},
   "outputs": [
    {
     "data": {
      "image/png": "[encoded data removed]",
      "text/plain": [
       "<Figure size 864x432 with 1 Axes>"
      ]
     },
     "metadata": {
      "needs_background": "light"
     },
     "output_type": "display_data"
    }
   ],
   "source": [
    "# Homoscedasticity    \n",
    "plt.subplots(figsize=(12, 6))\n",
    "plt.scatter(x=residual_test.index, y=residual_test.Residuals, alpha=0.5) \n",
    "plt.title('Residuals')\n",
    "plt.show()                              ##This assumption is also satisfied because there is no pattern of residual like \n",
    "                                        ##fan shape or Bow tie shape etc"
   ]
  },
  {
   "cell_type": "code",
   "execution_count": null,
   "id": "df53f187",
   "metadata": {},
   "outputs": [],
   "source": []
  },
  {
   "cell_type": "code",
   "execution_count": 39,
   "id": "19af938e",
   "metadata": {},
   "outputs": [
    {
     "name": "stdout",
     "output_type": "stream",
     "text": [
      "Assumption 5: Little to no multicollinearity among predictors\n"
     ]
    }
   ],
   "source": [
    "    from statsmodels.stats.outliers_influence import variance_inflation_factor\n",
    "    print('Assumption 5: Little to no multicollinearity among predictors')\n",
    "        \n",
    "    feature_names=X.columns\n",
    "    "
   ]
  },
  {
   "cell_type": "code",
   "execution_count": 40,
   "id": "f4e6fce1",
   "metadata": {},
   "outputs": [
    {
     "data": {
      "text/plain": [
       "array([[0.73333333, 0.05305305, 1.        , ..., 0.        , 0.        ,\n",
       "        0.0571088 ],\n",
       "       [0.66666667, 0.08508509, 0.5       , ..., 0.        , 0.        ,\n",
       "        0.09991331],\n",
       "       [0.93333333, 0.01281281, 1.        , ..., 0.        , 0.        ,\n",
       "        0.10327265],\n",
       "       ...,\n",
       "       [0.4       , 0.17504304, 1.        , ..., 0.        , 0.        ,\n",
       "        0.11573472],\n",
       "       [0.93333333, 0.01701702, 0.5       , ..., 0.        , 0.        ,\n",
       "        0.1319896 ],\n",
       "       [0.86666667, 0.00993794, 1.        , ..., 0.        , 0.        ,\n",
       "        0.06046814]])"
      ]
     },
     "execution_count": 40,
     "metadata": {},
     "output_type": "execute_result"
    }
   ],
   "source": [
    "X2=X.values\n",
    "X2\n",
    "   "
   ]
  },
  {
   "cell_type": "code",
   "execution_count": 41,
   "id": "159bce67",
   "metadata": {},
   "outputs": [
    {
     "name": "stdout",
     "output_type": "stream",
     "text": [
      "Year: 11.411809174492065\n",
      "Kms_Driven: 2.0596322635158053\n",
      "Fuel_Type: 13.656119842090696\n",
      "Transmission: 6.95609659842076\n",
      "Owner: 1.0784000763713872\n",
      "Seller_Type: 2.1892155853941686\n",
      "Present_Price: 2.3367631266291164\n"
     ]
    }
   ],
   "source": [
    "    VIF = [variance_inflation_factor(X2, i) for i in range(X2.shape[1])]\n",
    "    for idx, vif in enumerate(VIF):\n",
    "        print('{0}: {1}'.format(feature_names[idx], vif))"
   ]
  },
  {
   "cell_type": "code",
   "execution_count": 42,
   "id": "b8394735",
   "metadata": {},
   "outputs": [
    {
     "name": "stdout",
     "output_type": "stream",
     "text": [
      "\n",
      "2 cases of possible multicollinearity\n",
      "0 cases of definite multicollinearity\n",
      "\n",
      "Assumption possibly satisfied\n",
      "\n",
      "Coefficient interpretability may be problematic\n",
      "Consider removing variables with a high Variance Inflation Factor (VIF)\n"
     ]
    }
   ],
   "source": [
    "    # Gathering and printing total cases of possible or definite multicollinearity\n",
    "    possible_multicollinearity = sum([1 for vif in VIF if vif > 10])\n",
    "    definite_multicollinearity = sum([1 for vif in VIF if vif > 100])\n",
    "    print()\n",
    "    print('{0} cases of possible multicollinearity'.format(possible_multicollinearity))\n",
    "    print('{0} cases of definite multicollinearity'.format(definite_multicollinearity))\n",
    "    print()\n",
    "\n",
    "    if definite_multicollinearity == 0:\n",
    "        if possible_multicollinearity == 0:\n",
    "            print('Assumption satisfied')\n",
    "        else:\n",
    "            print('Assumption possibly satisfied')\n",
    "            print()\n",
    "            print('Coefficient interpretability may be problematic')\n",
    "            print('Consider removing variables with a high Variance Inflation Factor (VIF)')\n",
    "\n",
    "    else:\n",
    "        print('Assumption not satisfied')\n",
    "        print()\n",
    "        print('Coefficient interpretability will be problematic')\n",
    "        print('Consider removing variables with a high Variance Inflation Factor (VIF)')"
   ]
  },
  {
   "cell_type": "code",
   "execution_count": 43,
   "id": "3d144f65",
   "metadata": {},
   "outputs": [],
   "source": [
    "#Now dataset is fine for MLR\n",
    "# Now we can predict the output on new input values other than test data"
   ]
  },
  {
   "cell_type": "code",
   "execution_count": 44,
   "id": "9cf68840",
   "metadata": {},
   "outputs": [],
   "source": [
    "data = [[0.466667,0.099147,0.5,1.0,0.0,0.0,0.218140]]        ##Making dataframe for prediction on random value\n",
    "dfs = pd.DataFrame(data, columns = ['Year','Kms_Driven','Fuel_Type','Transmission','Owner','Seller_Type','Present_Price'])"
   ]
  },
  {
   "cell_type": "code",
   "execution_count": 45,
   "id": "f081f253",
   "metadata": {},
   "outputs": [
    {
     "data": {
      "text/html": [
       "<div>\n",
       "<style scoped>\n",
       "    .dataframe tbody tr th:only-of-type {\n",
       "        vertical-align: middle;\n",
       "    }\n",
       "\n",
       "    .dataframe tbody tr th {\n",
       "        vertical-align: top;\n",
       "    }\n",
       "\n",
       "    .dataframe thead th {\n",
       "        text-align: right;\n",
       "    }\n",
       "</style>\n",
       "<table border=\"1\" class=\"dataframe\">\n",
       "  <thead>\n",
       "    <tr style=\"text-align: right;\">\n",
       "      <th></th>\n",
       "      <th>Year</th>\n",
       "      <th>Kms_Driven</th>\n",
       "      <th>Fuel_Type</th>\n",
       "      <th>Transmission</th>\n",
       "      <th>Owner</th>\n",
       "      <th>Seller_Type</th>\n",
       "      <th>Present_Price</th>\n",
       "    </tr>\n",
       "  </thead>\n",
       "  <tbody>\n",
       "    <tr>\n",
       "      <th>0</th>\n",
       "      <td>0.466667</td>\n",
       "      <td>0.099147</td>\n",
       "      <td>0.5</td>\n",
       "      <td>1.0</td>\n",
       "      <td>0.0</td>\n",
       "      <td>0.0</td>\n",
       "      <td>0.21814</td>\n",
       "    </tr>\n",
       "  </tbody>\n",
       "</table>\n",
       "</div>"
      ],
      "text/plain": [
       "       Year  Kms_Driven  Fuel_Type  Transmission  Owner  Seller_Type  \\\n",
       "0  0.466667    0.099147        0.5           1.0    0.0          0.0   \n",
       "\n",
       "   Present_Price  \n",
       "0        0.21814  "
      ]
     },
     "execution_count": 45,
     "metadata": {},
     "output_type": "execute_result"
    }
   ],
   "source": [
    "dfs"
   ]
  },
  {
   "cell_type": "code",
   "execution_count": 46,
   "id": "694663ac",
   "metadata": {},
   "outputs": [
    {
     "data": {
      "text/plain": [
       "array([[0.28228106]])"
      ]
     },
     "execution_count": 46,
     "metadata": {},
     "output_type": "execute_result"
    }
   ],
   "source": [
    "lm.predict(dfs)      ## predicting on random value"
   ]
  },
  {
   "cell_type": "code",
   "execution_count": null,
   "id": "0f88dc35",
   "metadata": {},
   "outputs": [],
   "source": []
  },
  {
   "cell_type": "code",
   "execution_count": null,
   "id": "4886078f",
   "metadata": {},
   "outputs": [],
   "source": []
  },
  {
   "cell_type": "code",
   "execution_count": null,
   "id": "9cd6e493",
   "metadata": {},
   "outputs": [],
   "source": []
  },
  {
   "cell_type": "code",
   "execution_count": null,
   "id": "995cb17a",
   "metadata": {},
   "outputs": [],
   "source": []
  },
  {
   "cell_type": "code",
   "execution_count": null,
   "id": "a6f4f3bc",
   "metadata": {},
   "outputs": [],
   "source": []
  }
 ],
 "metadata": {
  "kernelspec": {
   "display_name": "Python 3",
   "language": "python",
   "name": "python3"
  },
  "language_info": {
   "codemirror_mode": {
    "name": "ipython",
    "version": 3
   },
   "file_extension": ".py",
   "mimetype": "text/x-python",
   "name": "python",
   "nbconvert_exporter": "python",
   "pygments_lexer": "ipython3",
   "version": "3.8.8"
  }
 },
 "nbformat": 4,
 "nbformat_minor": 5
}
